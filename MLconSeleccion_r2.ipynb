{
 "cells": [
  {
   "cell_type": "markdown",
   "metadata": {},
   "source": [
    "# DESCRIPTIVA PROCESO DE MACHINE LEARNING.\n",
    "Nuestro objetivo es entender qué variables afectan a la máxima capacidad de producción de la máquina y cómo estas variables afectan a dicha capacidad.\n",
    "\n",
    "PASO 1. OBTENCIÓN DE DATOS DESDE EL SCADA.\n",
    "Para esta operación emplearemos la librería OpenOPC de Python 2.7 y elaboraremos 2 scripts y un fichero csv con las variables disponibles en el sistema vía conexión Server OPC. Así habremos obtenido nuestro dataset. \"TBM_data.csv\", el cual lo dividiremos en:\n",
    "    - Datos de la primera mitad del año para el proceso de entrenamiento\n",
    "    - Datos para el posterior análisis de estado, con 48 tuplas de datos.\n",
    "Para ello emplearemos el código presente en el notebook \"Obtencion_Fichero.ipynb\" y el script get_files.py\n",
    "\n",
    "PASO 2. PROCESO MACHINE LEARNING\n",
    "El siguiente paso oes realizar un entrenamiento del sistema con los datos de la primera mitad del año, obtendremos un modelo matemático y unos estadísticos que nos permitirán valorar la validez del modelo. A tal efecto utilizaremos la libreria ciéntifica de Python Scipy y un script ModReg.py, que contiene una serie de funciones para la extracción, tratamiento y carga de datos, que permitan ser coherentes con los algoritmos de machine learning.\n",
    "\n",
    "PASO 3. SELECCIÓN DE VARIABLES.\n",
    "\n",
    "La selección de variables la realizaremos mediante dos algoritmos selectKBest y los mejores coeficientes de correlación obtenidos de las regresions lineales múltiples.\n",
    "\n",
    "En este Notebook desarrollamos el paso 2. Al final del mismo mostramos los comentarios."
   ]
  },
  {
   "cell_type": "code",
   "execution_count": 1,
   "metadata": {},
   "outputs": [],
   "source": [
    "######### INPUTS DEL SISTEMA  ##############\n",
    "file_data = 'data_train.csv' # Datos primera mitad del año.\n",
    "var_remove = 'var_remove_TBM.csv' # variables descartadas \n",
    "#inicialmente bajo criterios de tipo de dato, y conocimientos \n",
    "#del proceso indiustrial \n",
    "criteria = 20 # Numero de variables elegidas para \n",
    "#la descripción del modelo"
   ]
  },
  {
   "cell_type": "code",
   "execution_count": 2,
   "metadata": {},
   "outputs": [
    {
     "name": "stdout",
     "output_type": "stream",
     "text": [
      "************************************************************\n",
      "Tamaño DataSet: 3814 filas de datos y  168 variables registradas\n",
      "************************************************************\n",
      "======================================================================\n",
      "R2 en training: 0.9910\n",
      "R2 en test: 0.9820\n",
      "Sobre Ajuste--->>> 0.0091\n",
      "Error caudratico medio: 2174.84\n",
      "Error absoluto medio: 35.94\n",
      "Mediana del error Absoluto: 30.08\n",
      "------------------\n",
      "Iteraciones realizadas >>> 1\n"
     ]
    }
   ],
   "source": [
    "from ModReg_TG import imp_ds, Fit_Var, sense_var, f_model_reg, new_model\n",
    "from f_selection import ForwardSelection_r2, ForwardSelection_r2_Ac, selectKvar, var_remove_DL\n",
    "\n",
    "# Cargamos el dataset con todas las variables de la máquina \n",
    "#objetivo de estudio\n",
    "file=imp_ds(file_data)\n",
    "# devuelve lista de variable y el dataframe completo\n",
    "    \n",
    "#Función que elimina las variables no numéricas y establece \n",
    "#la variable dependiente\n",
    "df_var=Fit_Var(file,var_remove)\n",
    "# devuelve lista de variables tratadas, la X y la Y para el modelo\n",
    "# de entrenamiento\n",
    "    \n",
    "#Obtención de los primeros estadísticos.\n",
    "#Ejecutamos una función que devuelve el valor medio \n",
    "#y la desviación std\n",
    "stat=sense_var(df_var[1],df_var[2])\n",
    "# devuelve lista de variables y lista con las medias y \n",
    "#lista con las descv std.\n",
    "    \n",
    "#Una vez que el dataset ha sido tratado, se lanza la función \n",
    "#de regresión para el Modelo\n",
    "#Se lanza tantas veces como sea necesario para asegurar que \n",
    "#no haya sobreajuste\n",
    "e=0.1\n",
    "i=0\n",
    "while (e >0.05 and i <10):\n",
    "    reg=f_model_reg(df_var[1],df_var[2])\n",
    "    e=reg[2]\n",
    "    if i >10:\n",
    "        print('Modelo Presenta Sobre ajuste.')\n",
    "    i+=1\n",
    "print('------------------\\nIteraciones realizadas >>>',i)\n",
    "# devuelve una lista con los coeficientes de la regresion, \n",
    "# el bias de la regresion y la diferencia entre el r2 \n",
    "#del train y el test"
   ]
  },
  {
   "cell_type": "markdown",
   "metadata": {},
   "source": [
    "En este punto obtenemos que el entrenamiento nos devuelve un modelo con un r2 = 0.9908 y sin sobre ajuste. Parece un modelo razonable.\n",
    "\n",
    "Además obtenemos dos fichero csv, con la siguiente información:\n",
    "- Una lista con todas las variables o características del sistema. \"file_var.csv\"\n",
    "- El modelo matematico, con los valores de los coeficientes y bias del modelo. \"file_model.csv\"\n"
   ]
  },
  {
   "cell_type": "code",
   "execution_count": 3,
   "metadata": {},
   "outputs": [
    {
     "data": {
      "text/plain": [
       "<matplotlib.figure.Figure at 0x1a1a6bca58>"
      ]
     },
     "metadata": {},
     "output_type": "display_data"
    }
   ],
   "source": [
    "# Proceso de seleción de caracteristicas por orden de r2.\n",
    "var_r2= ForwardSelection_r2_Ac(list(df_var[1].columns),\n",
    "                               df_var[1],df_var[2])"
   ]
  },
  {
   "cell_type": "code",
   "execution_count": 4,
   "metadata": {},
   "outputs": [
    {
     "data": {
      "text/html": [
       "<div>\n",
       "<style scoped>\n",
       "    .dataframe tbody tr th:only-of-type {\n",
       "        vertical-align: middle;\n",
       "    }\n",
       "\n",
       "    .dataframe tbody tr th {\n",
       "        vertical-align: top;\n",
       "    }\n",
       "\n",
       "    .dataframe thead th {\n",
       "        text-align: right;\n",
       "    }\n",
       "</style>\n",
       "<table border=\"1\" class=\"dataframe\">\n",
       "  <thead>\n",
       "    <tr style=\"text-align: right;\">\n",
       "      <th></th>\n",
       "      <th>Variables</th>\n",
       "      <th>r2</th>\n",
       "    </tr>\n",
       "  </thead>\n",
       "  <tbody>\n",
       "    <tr>\n",
       "      <th>0</th>\n",
       "      <td>Main manifold gas fuel pressure</td>\n",
       "      <td>0.934715</td>\n",
       "    </tr>\n",
       "    <tr>\n",
       "      <th>1</th>\n",
       "      <td>Compressor Inlet air temperature (T1)</td>\n",
       "      <td>0.958987</td>\n",
       "    </tr>\n",
       "    <tr>\n",
       "      <th>2</th>\n",
       "      <td>Turbine temperature (T5)  #12</td>\n",
       "      <td>0.973896</td>\n",
       "    </tr>\n",
       "    <tr>\n",
       "      <th>3</th>\n",
       "      <td>Presion diferencial primera etapa filtro aire</td>\n",
       "      <td>0.976168</td>\n",
       "    </tr>\n",
       "    <tr>\n",
       "      <th>4</th>\n",
       "      <td>Turbine Hours</td>\n",
       "      <td>0.979449</td>\n",
       "    </tr>\n",
       "    <tr>\n",
       "      <th>5</th>\n",
       "      <td>Inlet air filter differential pressure</td>\n",
       "      <td>0.983690</td>\n",
       "    </tr>\n",
       "    <tr>\n",
       "      <th>6</th>\n",
       "      <td>Compensated T5 average</td>\n",
       "      <td>0.985311</td>\n",
       "    </tr>\n",
       "    <tr>\n",
       "      <th>7</th>\n",
       "      <td>Pilot manifold gas fuel pressure</td>\n",
       "      <td>0.986740</td>\n",
       "    </tr>\n",
       "    <tr>\n",
       "      <th>8</th>\n",
       "      <td>Turbine temperature (T5)  #9</td>\n",
       "      <td>0.987655</td>\n",
       "    </tr>\n",
       "    <tr>\n",
       "      <th>9</th>\n",
       "      <td>Turbine temperature (T5)  #7</td>\n",
       "      <td>0.988450</td>\n",
       "    </tr>\n",
       "    <tr>\n",
       "      <th>10</th>\n",
       "      <td>Turbine exhaust temperature (T7 #2)</td>\n",
       "      <td>0.988994</td>\n",
       "    </tr>\n",
       "    <tr>\n",
       "      <th>11</th>\n",
       "      <td>BAM monitoring: Rumble</td>\n",
       "      <td>0.989348</td>\n",
       "    </tr>\n",
       "    <tr>\n",
       "      <th>12</th>\n",
       "      <td>Outside ambient pressure (P0)</td>\n",
       "      <td>0.989675</td>\n",
       "    </tr>\n",
       "    <tr>\n",
       "      <th>13</th>\n",
       "      <td>Container temperature</td>\n",
       "      <td>0.989850</td>\n",
       "    </tr>\n",
       "    <tr>\n",
       "      <th>14</th>\n",
       "      <td>Turbine temperature (T5)  #2</td>\n",
       "      <td>0.989966</td>\n",
       "    </tr>\n",
       "    <tr>\n",
       "      <th>15</th>\n",
       "      <td>Turbine temperature (T5)  #6</td>\n",
       "      <td>0.990129</td>\n",
       "    </tr>\n",
       "    <tr>\n",
       "      <th>16</th>\n",
       "      <td>Turbine temperature (T5)  #1</td>\n",
       "      <td>0.990242</td>\n",
       "    </tr>\n",
       "    <tr>\n",
       "      <th>17</th>\n",
       "      <td>Compressor outlet air pressure (PCD)</td>\n",
       "      <td>0.990345</td>\n",
       "    </tr>\n",
       "    <tr>\n",
       "      <th>18</th>\n",
       "      <td>Turbine temperature (T5)  #5</td>\n",
       "      <td>0.990448</td>\n",
       "    </tr>\n",
       "    <tr>\n",
       "      <th>19</th>\n",
       "      <td>Presion diferencial total filtro aire</td>\n",
       "      <td>0.990528</td>\n",
       "    </tr>\n",
       "  </tbody>\n",
       "</table>\n",
       "</div>"
      ],
      "text/plain": [
       "                                        Variables        r2\n",
       "0                 Main manifold gas fuel pressure  0.934715\n",
       "1           Compressor Inlet air temperature (T1)  0.958987\n",
       "2                   Turbine temperature (T5)  #12  0.973896\n",
       "3   Presion diferencial primera etapa filtro aire  0.976168\n",
       "4                                   Turbine Hours  0.979449\n",
       "5          Inlet air filter differential pressure  0.983690\n",
       "6                          Compensated T5 average  0.985311\n",
       "7                Pilot manifold gas fuel pressure  0.986740\n",
       "8                    Turbine temperature (T5)  #9  0.987655\n",
       "9                    Turbine temperature (T5)  #7  0.988450\n",
       "10            Turbine exhaust temperature (T7 #2)  0.988994\n",
       "11                         BAM monitoring: Rumble  0.989348\n",
       "12                  Outside ambient pressure (P0)  0.989675\n",
       "13                          Container temperature  0.989850\n",
       "14                   Turbine temperature (T5)  #2  0.989966\n",
       "15                   Turbine temperature (T5)  #6  0.990129\n",
       "16                   Turbine temperature (T5)  #1  0.990242\n",
       "17           Compressor outlet air pressure (PCD)  0.990345\n",
       "18                   Turbine temperature (T5)  #5  0.990448\n",
       "19          Presion diferencial total filtro aire  0.990528"
      ]
     },
     "execution_count": 4,
     "metadata": {},
     "output_type": "execute_result"
    }
   ],
   "source": [
    "var_r2[0:criteria]"
   ]
  },
  {
   "cell_type": "code",
   "execution_count": 5,
   "metadata": {},
   "outputs": [
    {
     "name": "stdout",
     "output_type": "stream",
     "text": [
      "======================================================================\n",
      "R2 en training: 0.9904\n",
      "R2 en test: 0.9908\n",
      "Sobre Ajuste--->>> 0.0004\n",
      "Error caudratico medio: 2316.39\n",
      "Error absoluto medio: 37.78\n",
      "Mediana del error Absoluto: 31.63\n"
     ]
    }
   ],
   "source": [
    "# Valoramos modelo r2.\n",
    "nm=new_model(list(var_r2[0:criteria]['Variables']),df_var[1],df_var[2])\n",
    "\n",
    "# Obtenemos en fichero .csv la lista de variables a descartar en el \n",
    "# proceso de análisis\n",
    "var_remove_DL(file_data,list(var_r2[0:criteria]['Variables']))\n",
    "# Obtenemos un fichero con el modelo matemático de las variables \n",
    "# seleccionadas."
   ]
  },
  {
   "cell_type": "markdown",
   "metadata": {},
   "source": [
    "Hemos obtenido un modelo con un r2=0.9908 y sin sobre ajuste con 20 variables, basadas en el algoritmo del mejor r2 acumulado y el fichero file_model.csv con el modelo matemático, que nos permitirá dadas unas condiciones en el proceso predecir el comportamiento de la máquina, así como, y lo más importante detectar desvíos de este modelo y causas, lo cual nos podrñá llevar a plantear soluciones y evitar pédidas de producción.\n",
    "\n",
    "Además obtenemos el fichero var_remove_DL_XXXXX.csv, con la lista de variables a eliminar, y que no han sido seleccionadas en el algoritmo de selección, para los siguientes estudios análisis de estado de máquina."
   ]
  },
  {
   "cell_type": "markdown",
   "metadata": {},
   "source": [
    "# CONCLUSIONES:\n",
    "Con 5 variables en el algoritmo de selección de variables del r2 acumulado, somos capaces de obtener el mismo resultado que con el de SekectKBest, tomando 20 variables, por lo que entendemos óptimo elegir este modelo, para predecir futuros comportamientos y realizsr análisis de estadod de la máquina."
   ]
  },
  {
   "cell_type": "code",
   "execution_count": null,
   "metadata": {},
   "outputs": [],
   "source": []
  }
 ],
 "metadata": {
  "kernelspec": {
   "display_name": "Python 3",
   "language": "python",
   "name": "python3"
  },
  "language_info": {
   "codemirror_mode": {
    "name": "ipython",
    "version": 3
   },
   "file_extension": ".py",
   "mimetype": "text/x-python",
   "name": "python",
   "nbconvert_exporter": "python",
   "pygments_lexer": "ipython3",
   "version": "3.6.4"
  }
 },
 "nbformat": 4,
 "nbformat_minor": 2
}
