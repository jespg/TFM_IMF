{
 "cells": [
  {
   "cell_type": "markdown",
   "metadata": {},
   "source": [
    "# OBTENIÓN DE LOS FICHEROS DE TRABAJOS.\n",
    "\n",
    "En este Notebook, trataremos de obtener diferentes ficheros csv, que servirán como fuente para los procesos de entrenamiento y análisis de estado de la máquina.\n",
    "\n",
    "A tal efecto, se crea el Script get_files.py, en el que se han creado dos funciones:\n",
    "\n",
    "i. crit_date, en la que cogiendo el dataset original, podenos obtener otro delimitado por una fecha de inicio y otra de fin.\n",
    "\n",
    "ii. crit_n, esta función toma el dataset original y en función de un número (n) de tuplas, obtiene los ficheros resultantes."
   ]
  },
  {
   "cell_type": "code",
   "execution_count": 1,
   "metadata": {},
   "outputs": [
    {
     "ename": "ModuleNotFoundError",
     "evalue": "No module named 'get_files'",
     "output_type": "error",
     "traceback": [
      "\u001b[0;31m---------------------------------------------------------------------------\u001b[0m",
      "\u001b[0;31mModuleNotFoundError\u001b[0m                       Traceback (most recent call last)",
      "\u001b[0;32m<ipython-input-1-6e5107694196>\u001b[0m in \u001b[0;36m<module>\u001b[0;34m\u001b[0m\n\u001b[0;32m----> 1\u001b[0;31m \u001b[0;32mfrom\u001b[0m \u001b[0mget_files\u001b[0m \u001b[0;32mimport\u001b[0m \u001b[0mcrit_date\u001b[0m\u001b[0;34m,\u001b[0m \u001b[0mcrit_n\u001b[0m\u001b[0;34m\u001b[0m\u001b[0m\n\u001b[0m\u001b[1;32m      2\u001b[0m \u001b[0;34m\u001b[0m\u001b[0m\n\u001b[1;32m      3\u001b[0m \u001b[0;31m#  Criterios de construcción de los ficheros entre fechas\u001b[0m\u001b[0;34m\u001b[0m\u001b[0;34m\u001b[0m\u001b[0m\n\u001b[1;32m      4\u001b[0m \u001b[0;31m#y cada cierto numero de horas\u001b[0m\u001b[0;34m\u001b[0m\u001b[0;34m\u001b[0m\u001b[0m\n\u001b[1;32m      5\u001b[0m \u001b[0;31m###################################\u001b[0m\u001b[0;34m\u001b[0m\u001b[0;34m\u001b[0m\u001b[0m\n",
      "\u001b[0;31mModuleNotFoundError\u001b[0m: No module named 'get_files'"
     ]
    }
   ],
   "source": [
    "from get_files import crit_date, crit_n\n",
    "\n",
    "#  Criterios de construcción de los ficheros entre fechas \n",
    "#y cada cierto numero de horas\n",
    "###################################\n",
    "date_i = '01/05/2018 01:00'\n",
    "date_f = '30/06/2018 23:00'\n",
    "n = 48 # creamos un fichero cada 48 horas\n",
    "file='TBM_CCAmb.csv'\n",
    "file_train='data_train.csv'\n",
    "##################################\n",
    "\n",
    "df_train=crit_date(date_i,date_f,file)"
   ]
  },
  {
   "cell_type": "code",
   "execution_count": 2,
   "metadata": {},
   "outputs": [
    {
     "name": "stdout",
     "output_type": "stream",
     "text": [
      "====== Se han creado 210 ficheros =========\n"
     ]
    }
   ],
   "source": [
    "# Crea ficheros de forma masiva para el entrenamiento cada n horas.\n",
    "crit_n(n,file_train)"
   ]
  },
  {
   "cell_type": "markdown",
   "metadata": {},
   "source": [
    "Nota: Estos ficheros se emplearán para vefiricar, por un lado la validez del modelo de entrenamiento, y por otro, el estado de la máquina."
   ]
  },
  {
   "cell_type": "code",
   "execution_count": null,
   "metadata": {},
   "outputs": [],
   "source": []
  }
 ],
 "metadata": {
  "kernelspec": {
   "display_name": "Python 3",
   "language": "python",
   "name": "python3"
  },
  "language_info": {
   "codemirror_mode": {
    "name": "ipython",
    "version": 3
   },
   "file_extension": ".py",
   "mimetype": "text/x-python",
   "name": "python",
   "nbconvert_exporter": "python",
   "pygments_lexer": "ipython3",
   "version": "3.6.4"
  }
 },
 "nbformat": 4,
 "nbformat_minor": 2
}
