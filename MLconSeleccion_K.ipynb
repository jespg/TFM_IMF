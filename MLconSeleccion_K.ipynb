{
 "cells": [
  {
   "cell_type": "markdown",
   "metadata": {},
   "source": [
    "# DESCRIPTIVA PROCESO DE MACHINE LEARNING.\n",
    "Como objetivo nos narcamos entender qué variables afectan a la máxima capacidad de producción de la máquina y cómo estas variables afectan a dicha capacidad.\n",
    "\n",
    "PASO 1. OBTENCIÓN DE DATOS DESDE EL SCADA.\n",
    "Para esta operación emplearemos la librería OpenOPC de Python 2.7 y elaboraremos 2 scripts y un fichero csv con las variables disponibles en el sistema vía conexión Server OPC. Así habremos obtenido nuestro dataset. \"TBM_data.csv\", el cual lo dividiremos en:\n",
    "    - Datos de la primera mitad del año para el proceso de entrenamiento\n",
    "    - Datos para el posterior análisis de estado, con 48 tuplas de datos.\n",
    "Para ello emplearemos el código presente en el notebook \"Obtencion_Fichero.ipynb\" y el script get_files.py\n",
    "\n",
    "PASO 2. PROCESO MACHINE LEARNING\n",
    "El siguiente paso oes realizar un entrenamiento del sistema con los datos de la primera mitad del año, obtendremos un modelo matemático y unos estadísticos que nos permitirán valorar la validez del modelo. A tal efecto utilizaremos la libreria ciéntifica de Python Scipy y un script ModReg.py, que contiene una serie de funciones para la extracción, tratamiento y carga de datos, que permitan ser coherentes con los algoritmos de machine learning.\n",
    "\n",
    "PASO 3. SELECCIÓN DE VARIABLES.\n",
    "\n",
    "La selección de variables la realizaremos mediante dos algoritmos selectKBest y los mejores coeficientes de correlación obtenidos de las regresions lineales múltiples.\n",
    "\n",
    "En este Notebook desarrollamos el paso 2. Al final del mismo mostramos los comentarios."
   ]
  },
  {
   "cell_type": "code",
   "execution_count": 1,
   "metadata": {},
   "outputs": [],
   "source": [
    "######### INPUTS DEL SISTEMA  ##############\n",
    "file_data = 'data_train.csv' # Datos primera mitad del año.\n",
    "var_remove = 'var_remove_TBM.csv' # variables descartadas inicialmente bajo criterios de tipo de dato, y conocimientos del proceso indiustrial \n",
    "criteria = 20 # Numero de variables elegidas para la descripción del modelo\n"
   ]
  },
  {
   "cell_type": "code",
   "execution_count": 2,
   "metadata": {},
   "outputs": [
    {
     "name": "stdout",
     "output_type": "stream",
     "text": [
      "************************************************************\n",
      "Tamaño DataSet: 3814 filas de datos y  168 variables registradas\n",
      "************************************************************\n",
      "======================================================================\n",
      "R2 en training: 0.9907\n",
      "R2 en test: 0.9903\n",
      "Sobre Ajuste--->>> 0.0003\n",
      "Error caudratico medio: 2225.81\n",
      "Error absoluto medio: 36.78\n",
      "Mediana del error Absoluto: 30.34\n",
      "------------------\n",
      "Iteraciones realizadas >>> 1\n"
     ]
    }
   ],
   "source": [
    "from ModReg_TG import imp_ds, Fit_Var, sense_var, f_model_reg, new_model\n",
    "from f_selection import ForwardSelection_r2, ForwardSelection_r2_Ac, selectKvar, var_remove_DL\n",
    "\n",
    "# Cargamos el dataset con todas las variables de la máquina objetivo de estudio\n",
    "file=imp_ds(file_data)\n",
    "# devuelve lista de variable y el dataframe completo\n",
    "    \n",
    "#Función que elimina las variables no numéricas y establece la variable dependiente\n",
    "df_var=Fit_Var(file,var_remove)\n",
    "# devuelve lista de variables tratadas, la X y la Y para el modelo de entrenamiento\n",
    "    \n",
    "#Obtención de los primeros estadísticos.\n",
    "#Ejecutamos una función que devuelve el valor medio y la desviación std\n",
    "stat=sense_var(df_var[1],df_var[2])\n",
    "# devuelve lista de variables y lista con las medias y lista con las descv std.\n",
    "    \n",
    "#Una vez que el dataset ha sido tratado, se lanza la función de regresión para el Modelo\n",
    "#Se lanza tantas veces como sea necesario para asegurar que no haya sobreajuste\n",
    "e=0.1\n",
    "i=0\n",
    "while (e >0.05 and i <10):\n",
    "    reg=f_model_reg(df_var[1],df_var[2])\n",
    "    e=reg[2]\n",
    "    if i >10:\n",
    "        print('Modelo Presenta Sobre ajuste.')\n",
    "    i+=1\n",
    "print('------------------\\nIteraciones realizadas >>>',i)\n",
    "#devuelve una lista con los coeficientes de la regresion, el bias de la regresion \n",
    "#y la diferencia entre el r2 del train y el test"
   ]
  },
  {
   "cell_type": "markdown",
   "metadata": {},
   "source": [
    "En este punto obtenemos que el entrenamiento nos devuelve un modelo con un r2 = 0.9910 y sin sobre ajuste. Parece un modelo razonable.\n",
    "\n",
    "Además obtenemos dos fichero csv, con la siguiente información:\n",
    "- Una lista con todas las variables o características del sistema. \"file_var.csv\"\n",
    "- El modelo matematico, con los valores de los coeficientes y bias del modelo. \"file_model.csv\"\n"
   ]
  },
  {
   "cell_type": "code",
   "execution_count": 3,
   "metadata": {},
   "outputs": [
    {
     "name": "stderr",
     "output_type": "stream",
     "text": [
      "/anaconda3/lib/python3.6/site-packages/sklearn/feature_selection/univariate_selection.py:298: RuntimeWarning: invalid value encountered in true_divide\n",
      "  corr /= X_norms\n",
      "/anaconda3/lib/python3.6/site-packages/scipy/stats/_distn_infrastructure.py:879: RuntimeWarning: invalid value encountered in greater\n",
      "  return (self.a < x) & (x < self.b)\n",
      "/anaconda3/lib/python3.6/site-packages/scipy/stats/_distn_infrastructure.py:879: RuntimeWarning: invalid value encountered in less\n",
      "  return (self.a < x) & (x < self.b)\n",
      "/anaconda3/lib/python3.6/site-packages/scipy/stats/_distn_infrastructure.py:1821: RuntimeWarning: invalid value encountered in less_equal\n",
      "  cond2 = cond0 & (x <= self.a)\n"
     ]
    }
   ],
   "source": [
    "# Proceso de seleción de caracteristicas por algoritmo selectKBest\n",
    "df_Kvar=selectKvar(df_var[1],df_var[2],criteria)"
   ]
  },
  {
   "cell_type": "code",
   "execution_count": 4,
   "metadata": {},
   "outputs": [
    {
     "data": {
      "text/html": [
       "<div>\n",
       "<style scoped>\n",
       "    .dataframe tbody tr th:only-of-type {\n",
       "        vertical-align: middle;\n",
       "    }\n",
       "\n",
       "    .dataframe tbody tr th {\n",
       "        vertical-align: top;\n",
       "    }\n",
       "\n",
       "    .dataframe thead th {\n",
       "        text-align: right;\n",
       "    }\n",
       "</style>\n",
       "<table border=\"1\" class=\"dataframe\">\n",
       "  <thead>\n",
       "    <tr style=\"text-align: right;\">\n",
       "      <th></th>\n",
       "      <th>Variables</th>\n",
       "      <th>f_score</th>\n",
       "    </tr>\n",
       "  </thead>\n",
       "  <tbody>\n",
       "    <tr>\n",
       "      <th>9</th>\n",
       "      <td>Turbine temperature (T5)  #9</td>\n",
       "      <td>54578.478664</td>\n",
       "    </tr>\n",
       "    <tr>\n",
       "      <th>4</th>\n",
       "      <td>Main manifold gas fuel pressure</td>\n",
       "      <td>38820.930233</td>\n",
       "    </tr>\n",
       "    <tr>\n",
       "      <th>11</th>\n",
       "      <td>Compressor Inlet air temperature (T1)</td>\n",
       "      <td>28972.732844</td>\n",
       "    </tr>\n",
       "    <tr>\n",
       "      <th>15</th>\n",
       "      <td>Temperatura entrada aire antes el enfriador</td>\n",
       "      <td>11410.813868</td>\n",
       "    </tr>\n",
       "    <tr>\n",
       "      <th>2</th>\n",
       "      <td>Compressor outlet air pressure (PCD)</td>\n",
       "      <td>2967.174190</td>\n",
       "    </tr>\n",
       "    <tr>\n",
       "      <th>1</th>\n",
       "      <td>Presion diferencial segunda etapa filtro aire</td>\n",
       "      <td>1236.415061</td>\n",
       "    </tr>\n",
       "    <tr>\n",
       "      <th>8</th>\n",
       "      <td>Turbine temperature (T5)  #2</td>\n",
       "      <td>757.058309</td>\n",
       "    </tr>\n",
       "    <tr>\n",
       "      <th>10</th>\n",
       "      <td>Lube Oil temperature</td>\n",
       "      <td>551.423696</td>\n",
       "    </tr>\n",
       "    <tr>\n",
       "      <th>3</th>\n",
       "      <td>Gas fuel pressure</td>\n",
       "      <td>417.948046</td>\n",
       "    </tr>\n",
       "    <tr>\n",
       "      <th>7</th>\n",
       "      <td>Container temperature</td>\n",
       "      <td>346.447936</td>\n",
       "    </tr>\n",
       "    <tr>\n",
       "      <th>6</th>\n",
       "      <td>Pilot manifold gas fuel pressure</td>\n",
       "      <td>317.594062</td>\n",
       "    </tr>\n",
       "    <tr>\n",
       "      <th>0</th>\n",
       "      <td>Presion diferencial primera etapa filtro aire</td>\n",
       "      <td>63.395638</td>\n",
       "    </tr>\n",
       "    <tr>\n",
       "      <th>19</th>\n",
       "      <td>Turbine Hours</td>\n",
       "      <td>49.145121</td>\n",
       "    </tr>\n",
       "    <tr>\n",
       "      <th>16</th>\n",
       "      <td>Temperatura entrada aire despues el enfriador</td>\n",
       "      <td>43.983561</td>\n",
       "    </tr>\n",
       "    <tr>\n",
       "      <th>18</th>\n",
       "      <td>T7 average used for control</td>\n",
       "      <td>5.524941</td>\n",
       "    </tr>\n",
       "    <tr>\n",
       "      <th>12</th>\n",
       "      <td>Turbine exhaust temperature (T7 #1)</td>\n",
       "      <td>5.152789</td>\n",
       "    </tr>\n",
       "    <tr>\n",
       "      <th>14</th>\n",
       "      <td>Turbine exhaust temperature (T7 #3)</td>\n",
       "      <td>4.176453</td>\n",
       "    </tr>\n",
       "    <tr>\n",
       "      <th>17</th>\n",
       "      <td>Turbine exhaust temperature (T7)</td>\n",
       "      <td>2.150355</td>\n",
       "    </tr>\n",
       "    <tr>\n",
       "      <th>13</th>\n",
       "      <td>Turbine exhaust temperature (T7 #2)</td>\n",
       "      <td>1.104342</td>\n",
       "    </tr>\n",
       "    <tr>\n",
       "      <th>5</th>\n",
       "      <td>Outside ambient pressure (P0)</td>\n",
       "      <td>NaN</td>\n",
       "    </tr>\n",
       "  </tbody>\n",
       "</table>\n",
       "</div>"
      ],
      "text/plain": [
       "                                        Variables       f_score\n",
       "9                    Turbine temperature (T5)  #9  54578.478664\n",
       "4                 Main manifold gas fuel pressure  38820.930233\n",
       "11          Compressor Inlet air temperature (T1)  28972.732844\n",
       "15    Temperatura entrada aire antes el enfriador  11410.813868\n",
       "2            Compressor outlet air pressure (PCD)   2967.174190\n",
       "1   Presion diferencial segunda etapa filtro aire   1236.415061\n",
       "8                    Turbine temperature (T5)  #2    757.058309\n",
       "10                           Lube Oil temperature    551.423696\n",
       "3                               Gas fuel pressure    417.948046\n",
       "7                           Container temperature    346.447936\n",
       "6                Pilot manifold gas fuel pressure    317.594062\n",
       "0   Presion diferencial primera etapa filtro aire     63.395638\n",
       "19                                  Turbine Hours     49.145121\n",
       "16  Temperatura entrada aire despues el enfriador     43.983561\n",
       "18                    T7 average used for control      5.524941\n",
       "12            Turbine exhaust temperature (T7 #1)      5.152789\n",
       "14            Turbine exhaust temperature (T7 #3)      4.176453\n",
       "17               Turbine exhaust temperature (T7)      2.150355\n",
       "13            Turbine exhaust temperature (T7 #2)      1.104342\n",
       "5                   Outside ambient pressure (P0)           NaN"
      ]
     },
     "execution_count": 4,
     "metadata": {},
     "output_type": "execute_result"
    }
   ],
   "source": [
    "## Mostramos el f_score de cada variable\n",
    "df_Kvar"
   ]
  },
  {
   "cell_type": "code",
   "execution_count": 5,
   "metadata": {
    "scrolled": true
   },
   "outputs": [
    {
     "name": "stdout",
     "output_type": "stream",
     "text": [
      "======================================================================\n",
      "R2 en training: 0.9792\n",
      "R2 en test: 0.9766\n",
      "Sobre Ajuste--->>> 0.0027\n",
      "Error caudratico medio: 5100.13\n",
      "Error absoluto medio: 55.00\n",
      "Mediana del error Absoluto: 45.54\n"
     ]
    }
   ],
   "source": [
    "# Valoramos modelo KBest.\n",
    "nm=new_model(list(df_Kvar['Variables']),df_var[1],df_var[2])\n",
    "# Obtenemos en fichero .csv la lista de variables a descartar \n",
    "# en el procesode análisis\n",
    "var_remove_DL(file_data,list(df_Kvar['Variables']))"
   ]
  },
  {
   "cell_type": "markdown",
   "metadata": {},
   "source": [
    "Hemos obtenido un modelo con un r2=0.9789 y sin sobre ajuste con 20 variables, basadas en el algoritmo selectKBest y el fichero file_model.csv con el midelo matemático, que nos permitirá dadas unas condiciones en el proceso predecir el comportamiento de la máquina, así como, y lo más importante detectar desvíos de este modelo y causas, lo cual nos podrñá llevar a plantear soluciones y evitar pédidas de producción.\n",
    "\n",
    "Además obtenemos el fichero var_remove_DL_XXXXX.csv, con la lista de variables a eliminar para los siguientes estudios análisis de estado de máquina."
   ]
  },
  {
   "cell_type": "markdown",
   "metadata": {},
   "source": [
    "# CONCLUSIONES:\n",
    "Con 5 variables en el algoritmo de selección de variables del r2 acumulado, somos capaces de obtener el mismo resultado que con el de SekectKBest, tomando 20 variables, por lo que entendemos óptimo elegir este modelo, para predecir futuros comportamientos y realizar análisis de estadod de la máquina."
   ]
  },
  {
   "cell_type": "code",
   "execution_count": null,
   "metadata": {},
   "outputs": [],
   "source": []
  }
 ],
 "metadata": {
  "kernelspec": {
   "display_name": "Python 3",
   "language": "python",
   "name": "python3"
  },
  "language_info": {
   "codemirror_mode": {
    "name": "ipython",
    "version": 3
   },
   "file_extension": ".py",
   "mimetype": "text/x-python",
   "name": "python",
   "nbconvert_exporter": "python",
   "pygments_lexer": "ipython3",
   "version": "3.6.4"
  }
 },
 "nbformat": 4,
 "nbformat_minor": 2
}
