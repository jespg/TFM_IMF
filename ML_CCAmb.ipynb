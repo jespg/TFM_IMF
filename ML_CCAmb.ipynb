{
 "cells": [
  {
   "cell_type": "markdown",
   "metadata": {},
   "source": [
    "## Obtención de un modelo basado en condiciones meteorológicas."
   ]
  },
  {
   "cell_type": "code",
   "execution_count": 19,
   "metadata": {},
   "outputs": [
    {
     "name": "stdout",
     "output_type": "stream",
     "text": [
      "************************************************************\n",
      "Tamaño DataSet: 626 filas de datos y  4 variables registradas\n",
      "************************************************************\n",
      "======================================================================\n",
      "R2 en training: 0.7586\n",
      "R2 en test: 0.7580\n",
      "Sobre Ajuste--->>> 0.0008\n",
      "Error caudratico medio: 16077.21\n",
      "Error absoluto medio: 83.77\n",
      "Mediana del error Absoluto: 58.30\n",
      "------------------\n",
      "Iteraciones realizadas >>> 1\n"
     ]
    }
   ],
   "source": [
    "from ModReg_TG_CCA import *\n",
    "# Cargamos el dataset con todas las variables de la máquina \n",
    "#objetivo de estudio\n",
    "file=imp_ds('data_CCAmb_1.csv')\n",
    "# devuelve lista de variable y el dataframe completo\n",
    "\n",
    "#Función que elimina las variables no numéricas y establece \n",
    "#la variable dependiente\n",
    "df_var=Fit_Var(file,'Potencia TG ValueY')\n",
    "# devuelve lista de variables tratadas, la X y la Y para el modelo\n",
    "# de entrenamiento\n",
    "\n",
    "#Obtención de los primeros estadísticos.\n",
    "#Ejecutamos una función que devuelve el valor medio \n",
    "#y la desviación std\n",
    "stat=sense_var(df_var[1],df_var[2])\n",
    "# devuelve lista de variables y lista con las medias y \n",
    "#lista con las descv std.\n",
    "\n",
    "#Una vez que el dataset ha sido tratado, se lanza la función \n",
    "#de regresión para el Modelo\n",
    "#Se lanza tantas veces como sea necesario para asegurar que \n",
    "#no haya sobreajuste\n",
    "e=0.1\n",
    "i=0\n",
    "while (e >0.05 and i <10):\n",
    "    reg=f_model_reg(df_var[1],df_var[2])\n",
    "    e=reg[2]\n",
    "    if i >10:\n",
    "        print('Modelo Presenta Sobre ajuste.')\n",
    "    i+=1\n",
    "print('------------------\\nIteraciones realizadas >>>',i)\n",
    "# devuelve una lista con los coeficientes de la regresion, \n",
    "# el bias de la regresion y la diferencia entre el r2 \n",
    "#del train y el test"
   ]
  },
  {
   "cell_type": "code",
   "execution_count": null,
   "metadata": {},
   "outputs": [],
   "source": []
  }
 ],
 "metadata": {
  "kernelspec": {
   "display_name": "Python 3",
   "language": "python",
   "name": "python3"
  },
  "language_info": {
   "codemirror_mode": {
    "name": "ipython",
    "version": 3
   },
   "file_extension": ".py",
   "mimetype": "text/x-python",
   "name": "python",
   "nbconvert_exporter": "python",
   "pygments_lexer": "ipython3",
   "version": "3.6.4"
  }
 },
 "nbformat": 4,
 "nbformat_minor": 2
}
